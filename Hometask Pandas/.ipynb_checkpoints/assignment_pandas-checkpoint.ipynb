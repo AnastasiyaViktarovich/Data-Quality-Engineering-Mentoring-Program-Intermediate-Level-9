{
 "cells": [
  {
   "cell_type": "markdown",
   "metadata": {},
   "source": [
    "# <center>Assignment"
   ]
  },
  {
   "cell_type": "markdown",
   "metadata": {},
   "source": [
    "Download the file `athlete_events.csv` The dataset has the following features:\n",
    "\n",
    "- __ID__ - Unique number for each athlete\n",
    "- __Name__ - Athlete's name\n",
    "- __Sex__ - M or F\n",
    "- __Age__ - Integer\n",
    "- __Height__ - In centimeters\n",
    "- __Weight__ - In kilograms\n",
    "- __Team__ - Team name\n",
    "- __NOC__ - National Olympic Committee 3-letter code\n",
    "- __Games__ - Year and season\n",
    "- __Year__ - Integer\n",
    "- __Season__ - Summer or Winter\n",
    "- __City__ - Host city\n",
    "- __Sport__ - Sport\n",
    "- __Event__ - Event\n",
    "- __Medal__ - Gold, Silver, Bronze, or NA"
   ]
  },
  {
   "cell_type": "code",
   "execution_count": 114,
   "metadata": {},
   "outputs": [],
   "source": [
    "import pandas as pd"
   ]
  },
  {
   "cell_type": "code",
   "execution_count": 115,
   "metadata": {},
   "outputs": [],
   "source": [
    "# Change the path to the dataset file if needed. \n",
    "PATH = 'athlete events.csv'"
   ]
  },
  {
   "cell_type": "code",
   "execution_count": 116,
   "metadata": {},
   "outputs": [
    {
     "data": {
      "text/html": [
       "<div>\n",
       "<style scoped>\n",
       "    .dataframe tbody tr th:only-of-type {\n",
       "        vertical-align: middle;\n",
       "    }\n",
       "\n",
       "    .dataframe tbody tr th {\n",
       "        vertical-align: top;\n",
       "    }\n",
       "\n",
       "    .dataframe thead th {\n",
       "        text-align: right;\n",
       "    }\n",
       "</style>\n",
       "<table border=\"1\" class=\"dataframe\">\n",
       "  <thead>\n",
       "    <tr style=\"text-align: right;\">\n",
       "      <th></th>\n",
       "      <th>ID</th>\n",
       "      <th>Name</th>\n",
       "      <th>Sex</th>\n",
       "      <th>Age</th>\n",
       "      <th>Height</th>\n",
       "      <th>Weight</th>\n",
       "      <th>Team</th>\n",
       "      <th>NOC</th>\n",
       "      <th>Games</th>\n",
       "      <th>Year</th>\n",
       "      <th>Season</th>\n",
       "      <th>City</th>\n",
       "      <th>Sport</th>\n",
       "      <th>Event</th>\n",
       "      <th>Medal</th>\n",
       "    </tr>\n",
       "  </thead>\n",
       "  <tbody>\n",
       "    <tr>\n",
       "      <th>0</th>\n",
       "      <td>1</td>\n",
       "      <td>A Dijiang</td>\n",
       "      <td>M</td>\n",
       "      <td>24.0</td>\n",
       "      <td>180.0</td>\n",
       "      <td>80.0</td>\n",
       "      <td>China</td>\n",
       "      <td>CHN</td>\n",
       "      <td>1992 Summer</td>\n",
       "      <td>1992</td>\n",
       "      <td>Summer</td>\n",
       "      <td>Barcelona</td>\n",
       "      <td>Basketball</td>\n",
       "      <td>Basketball Men's Basketball</td>\n",
       "      <td>NaN</td>\n",
       "    </tr>\n",
       "    <tr>\n",
       "      <th>1</th>\n",
       "      <td>2</td>\n",
       "      <td>A Lamusi</td>\n",
       "      <td>M</td>\n",
       "      <td>23.0</td>\n",
       "      <td>170.0</td>\n",
       "      <td>60.0</td>\n",
       "      <td>China</td>\n",
       "      <td>CHN</td>\n",
       "      <td>2012 Summer</td>\n",
       "      <td>2012</td>\n",
       "      <td>Summer</td>\n",
       "      <td>London</td>\n",
       "      <td>Judo</td>\n",
       "      <td>Judo Men's Extra-Lightweight</td>\n",
       "      <td>NaN</td>\n",
       "    </tr>\n",
       "    <tr>\n",
       "      <th>2</th>\n",
       "      <td>3</td>\n",
       "      <td>Gunnar Nielsen Aaby</td>\n",
       "      <td>M</td>\n",
       "      <td>24.0</td>\n",
       "      <td>NaN</td>\n",
       "      <td>NaN</td>\n",
       "      <td>Denmark</td>\n",
       "      <td>DEN</td>\n",
       "      <td>1920 Summer</td>\n",
       "      <td>1920</td>\n",
       "      <td>Summer</td>\n",
       "      <td>Antwerpen</td>\n",
       "      <td>Football</td>\n",
       "      <td>Football Men's Football</td>\n",
       "      <td>NaN</td>\n",
       "    </tr>\n",
       "    <tr>\n",
       "      <th>3</th>\n",
       "      <td>4</td>\n",
       "      <td>Edgar Lindenau Aabye</td>\n",
       "      <td>M</td>\n",
       "      <td>34.0</td>\n",
       "      <td>NaN</td>\n",
       "      <td>NaN</td>\n",
       "      <td>Denmark/Sweden</td>\n",
       "      <td>DEN</td>\n",
       "      <td>1900 Summer</td>\n",
       "      <td>1900</td>\n",
       "      <td>Summer</td>\n",
       "      <td>Paris</td>\n",
       "      <td>Tug-Of-War</td>\n",
       "      <td>Tug-Of-War Men's Tug-Of-War</td>\n",
       "      <td>Gold</td>\n",
       "    </tr>\n",
       "    <tr>\n",
       "      <th>4</th>\n",
       "      <td>5</td>\n",
       "      <td>Christine Jacoba Aaftink</td>\n",
       "      <td>F</td>\n",
       "      <td>21.0</td>\n",
       "      <td>185.0</td>\n",
       "      <td>82.0</td>\n",
       "      <td>Netherlands</td>\n",
       "      <td>NED</td>\n",
       "      <td>1988 Winter</td>\n",
       "      <td>1988</td>\n",
       "      <td>Winter</td>\n",
       "      <td>Calgary</td>\n",
       "      <td>Speed Skating</td>\n",
       "      <td>Speed Skating Women's 500 metres</td>\n",
       "      <td>NaN</td>\n",
       "    </tr>\n",
       "  </tbody>\n",
       "</table>\n",
       "</div>"
      ],
      "text/plain": [
       "   ID                      Name Sex   Age  Height  Weight            Team  \\\n",
       "0   1                 A Dijiang   M  24.0   180.0    80.0           China   \n",
       "1   2                  A Lamusi   M  23.0   170.0    60.0           China   \n",
       "2   3       Gunnar Nielsen Aaby   M  24.0     NaN     NaN         Denmark   \n",
       "3   4      Edgar Lindenau Aabye   M  34.0     NaN     NaN  Denmark/Sweden   \n",
       "4   5  Christine Jacoba Aaftink   F  21.0   185.0    82.0     Netherlands   \n",
       "\n",
       "   NOC        Games  Year  Season       City          Sport  \\\n",
       "0  CHN  1992 Summer  1992  Summer  Barcelona     Basketball   \n",
       "1  CHN  2012 Summer  2012  Summer     London           Judo   \n",
       "2  DEN  1920 Summer  1920  Summer  Antwerpen       Football   \n",
       "3  DEN  1900 Summer  1900  Summer      Paris     Tug-Of-War   \n",
       "4  NED  1988 Winter  1988  Winter    Calgary  Speed Skating   \n",
       "\n",
       "                              Event Medal  \n",
       "0       Basketball Men's Basketball   NaN  \n",
       "1      Judo Men's Extra-Lightweight   NaN  \n",
       "2           Football Men's Football   NaN  \n",
       "3       Tug-Of-War Men's Tug-Of-War  Gold  \n",
       "4  Speed Skating Women's 500 metres   NaN  "
      ]
     },
     "execution_count": 116,
     "metadata": {},
     "output_type": "execute_result"
    }
   ],
   "source": [
    "data = pd.read_csv(PATH)\n",
    "data.head()"
   ]
  },
  {
   "cell_type": "markdown",
   "metadata": {},
   "source": [
    "__1. How old were the youngest male and female participants of the 1988 Olympics?__\n"
   ]
  },
  {
   "cell_type": "code",
   "execution_count": 117,
   "metadata": {},
   "outputs": [
    {
     "name": "stdout",
     "output_type": "stream",
     "text": [
      "The youngest male participant in the 1988 Olympics was 12.0 years old.\n",
      "The youngest female participant in the 1988 Olympics was 11.0 years old.\n"
     ]
    }
   ],
   "source": [
    "# Filter the data to include only the participants from the 1988 Olympics\n",
    "data_1988 = data[data['Year'] == 1988]\n",
    "\n",
    "# Find the minimum age for males and females\n",
    "youngest_male = data_1988[data_1988['Sex'] == 'M']['Age'].min()\n",
    "youngest_female = data_1988[data_1988['Sex'] == 'F']['Age'].min()\n",
    "\n",
    "print(\"The youngest male participant in the 1988 Olympics was\", youngest_male, \"years old.\")\n",
    "print(\"The youngest female participant in the 1988 Olympics was\", youngest_female, \"years old.\")"
   ]
  },
  {
   "cell_type": "markdown",
   "metadata": {},
   "source": [
    "__2. What was the percentage of female basketball players among all the female participants of the 2012 Olympics? Round the answer to the first decimal.__\n",
    "\n",
    "*Hint:* drop duplicate athletes where necessary to count each athlete just once. This applies to other questions too. \n",
    "\n"
   ]
  },
  {
   "cell_type": "code",
   "execution_count": 118,
   "metadata": {},
   "outputs": [
    {
     "name": "stdout",
     "output_type": "stream",
     "text": [
      "The percentage of female basketball players among all the female participants of the 2012 Olympics:  3.1 %.\n"
     ]
    }
   ],
   "source": [
    "# Filter the data to include only the participants from the 2012 Olympics without dublicate athletes\n",
    "data_2012 = data[data['Year']==2012].drop_duplicates(subset='ID')\n",
    "\n",
    "# Filer the data to include only female\n",
    "data_2012_female = data_2012[data_2012['Sex']== 'F']\n",
    "\n",
    "# Filter the data to include only females playing Basketball\n",
    "data_2012_female_bask = data_2012_female[data_2012_female['Sport']=='Basketball']\n",
    "\n",
    "# Calculate and round persentage\n",
    "persentage = len(data_2012_female_bask)/len(data_2012_female)*100\n",
    "persentage = round (persentage,1)\n",
    "\n",
    "print(\"The percentage of female basketball players among all the female participants of the 2012 Olympics: \", persentage, \"%.\")"
   ]
  },
  {
   "cell_type": "markdown",
   "metadata": {},
   "source": [
    "__3. What are the mean and max of height for female tennis players who participated in the 1988 Olympics? Round the answer to the first decimal.__\n",
    "\n"
   ]
  },
  {
   "cell_type": "code",
   "execution_count": 119,
   "metadata": {},
   "outputs": [
    {
     "name": "stdout",
     "output_type": "stream",
     "text": [
      "The max of height for female tennis players who participated in the 1988 Olympics was 190.0 cm.\n",
      "The mean of height for female tennis players who participated in the 1988 Olympics was 171.7 cm.\n"
     ]
    }
   ],
   "source": [
    "# Filter the data to include only the participants from the 1988 Olympics\n",
    "data_1988 = data[data['Year'] == 1988]\n",
    "\n",
    "# Find the minimum age for males and females\n",
    "highest_height = data_1988[(data_1988['Sex'] == 'F') & (data_1988['Sport']=='Tennis')]['Height'].max()\n",
    "mean_height = data_1988[(data_1988['Sex'] == 'F') & (data_1988['Sport']=='Tennis')]['Height'].mean()\n",
    "\n",
    "print(\"The max of height for female tennis players who participated in the 1988 Olympics was\", highest_height, \"cm.\")\n",
    "print(\"The mean of height for female tennis players who participated in the 1988 Olympics was\", round (mean_height,1), \"cm.\")"
   ]
  },
  {
   "cell_type": "markdown",
   "metadata": {},
   "source": [
    "__4. Find the heaviest athlete among 1988 Olympics participants. What sport did he or she do?__\n",
    "\n",
    "\n"
   ]
  },
  {
   "cell_type": "code",
   "execution_count": 120,
   "metadata": {},
   "outputs": [
    {
     "name": "stdout",
     "output_type": "stream",
     "text": [
      "Ji Zubrick  is the heaviest athlete among 1988 Olympics participants. He has weight 161.0 kg. He did Weightlifting\n"
     ]
    }
   ],
   "source": [
    "# Filter the data to include only the participants from the 1988 Olympics\n",
    "data_1988 = data[data['Year'] == 1988]\n",
    "\n",
    "# find heaviest athlete \n",
    "heaviest_value = data_1988['Weight'].max()\n",
    "dt_1988 = data_1988[['Year','Name', 'Sex','Weight', 'Sport']]\n",
    "heaviest_athlete = dt_1988[dt_1988['Weight']==heaviest_value]\n",
    "\n",
    "# convert to comfortable format\n",
    "dict = heaviest_athlete.to_dict('records')\n",
    "\n",
    "# change Sex in dict for confortable output \n",
    "if dict[0]['Sex'] == 'M':\n",
    "    dict[0]['Sex'] = 'He'\n",
    "else:\n",
    "    dict[0]['Sex'] = 'She'\n",
    "print(dict[0]['Name'],\" is the heaviest athlete among 1988 Olympics participants.\", dict[0]['Sex'], 'has weight',\n",
    "      dict[0]['Weight'], 'kg.', dict[0]['Sex'], 'did' ,dict[0]['Sport'])"
   ]
  },
  {
   "cell_type": "markdown",
   "metadata": {},
   "source": [
    "__5. How many times did John Aalberg participate in the Olympics held in different years?__\n"
   ]
  },
  {
   "cell_type": "code",
   "execution_count": 121,
   "metadata": {},
   "outputs": [
    {
     "name": "stdout",
     "output_type": "stream",
     "text": [
      "John Aalberg participated in the Olympics held in different years 2 times.\n"
     ]
    }
   ],
   "source": [
    "# find count for deduplicated records by year for one athlete\n",
    "count = len(data[data['Name'] == 'John Aalberg'].drop_duplicates(subset='Year'))\n",
    "\n",
    "print (\"John Aalberg participated in the Olympics held in different years\", count,\"times.\" )\n"
   ]
  },
  {
   "cell_type": "markdown",
   "metadata": {},
   "source": [
    "__6. How many events did John Aalberg participate in during the Olympics held in Albertville?__"
   ]
  },
  {
   "cell_type": "code",
   "execution_count": 123,
   "metadata": {},
   "outputs": [],
   "source": [
    "# list of events\n",
    "data_ath = data[(data['Name'] == 'John Aalberg')& (data['City']=='Albertville')]\n",
    "\n",
    "# find count\n",
    "count = len(data_ath)\n",
    "#print (\"John Aalberg participated in \", count,\"events during the Olympics held in Albertville.\" )"
   ]
  },
  {
   "cell_type": "markdown",
   "metadata": {},
   "source": [
    "__7. How many gold medals in tennis did the Belarus team win at the 2012 Olympics?__\n"
   ]
  },
  {
   "cell_type": "code",
   "execution_count": 124,
   "metadata": {},
   "outputs": [
    {
     "name": "stdout",
     "output_type": "stream",
     "text": [
      "Belarus team win  2 gold medals in tennis.\n"
     ]
    }
   ],
   "source": [
    "# find rows with gold medals in tennis did the Belarus team win at the 2012 Olympics\n",
    "data_belarus = data[(data['Year'] == 2012) & (data['Team'] == 'Belarus') & (data['Sport']  == 'Tennis') & (data['Medal'] == 'Gold')]\n",
    "# find count\n",
    "count = len(data_belarus)\n",
    "print (\"Belarus team win \", count,\"gold medals in tennis.\" )"
   ]
  },
  {
   "cell_type": "markdown",
   "metadata": {},
   "source": [
    "__8. Is it true that Spain won fewer medals than Italy at the 2016 Olympics? Do not consider NaN values in _Medal_ column.__ \n",
    "\n"
   ]
  },
  {
   "cell_type": "code",
   "execution_count": 125,
   "metadata": {},
   "outputs": [
    {
     "name": "stdout",
     "output_type": "stream",
     "text": [
      "Ít is true that Spain won fewer medals than Italy at the 2016 Olympics\n"
     ]
    }
   ],
   "source": [
    "# filter NaN values\n",
    "filtered_df = data[data['Medal'].notnull()]\n",
    "\n",
    "# find count for Spain at the 2016 Olympics\n",
    "spain = filtered_df[(filtered_df['Year'] == 2016) & (filtered_df['Team'] == 'Spain')].drop_duplicates(subset=[ 'Event','Medal'])\n",
    "count_sp = len(spain)\n",
    " \n",
    "# find count for Italy at the 2016 Olympics    \n",
    "italy = filtered_df[(filtered_df['Year'] == 2016) & (filtered_df['Team'] == 'Italy')].drop_duplicates(subset=[ 'Event','Medal'])\n",
    "count_it = len(italy)\n",
    "\n",
    "# compare and print\n",
    "if count_sp < count_it:\n",
    "    print('Ít is true that Spain won fewer medals than Italy at the 2016 Olympics')\n",
    "elif count_sp > count_it:\n",
    "    print('Ít is false that Spain won fewer medals than Italy at the 2016 Olympics')\n",
    "else:\n",
    "    print('Ít is false that Spain won fewer medals than Italy at the 2016 Olympics. Numbers of medals the same.')"
   ]
  },
  {
   "cell_type": "markdown",
   "metadata": {},
   "source": [
    "__9. What is the absolute difference between the number of unique sports at the 1988 Olympics and 2002 Olympics?__\n",
    "\n"
   ]
  },
  {
   "cell_type": "code",
   "execution_count": 126,
   "metadata": {},
   "outputs": [
    {
     "name": "stdout",
     "output_type": "stream",
     "text": [
      "Absolute difference between the number of unique sports at the 1988 Olympics and 2002 Olympics is 3\n"
     ]
    }
   ],
   "source": [
    "# find count of unique sports at the 1988 Olympics\n",
    "data_1988 = data[data['Year'] == 1988]\n",
    "data_sport_1988 = data_1988['Sport'].drop_duplicates()\n",
    "count_1988 = len(data_sport_1988)\n",
    "\n",
    "# find count of unique sports at the 2016 Olympics\n",
    "data_2016 = data[data['Year'] == 2016]\n",
    "data_sport_2016 = data_2016['Sport'].drop_duplicates()\n",
    "count_2016 = len(data_sport_2016)\n",
    "\n",
    "# find absolute difference between the number of unique sports at the 1988 Olympics and 2002 Olympics\n",
    "diff = abs(count_2016-count_1988)\n",
    "\n",
    "print('Absolute difference between the number of unique sports at the 1988 Olympics and 2002 Olympics is', diff)"
   ]
  },
  {
   "cell_type": "markdown",
   "metadata": {},
   "source": [
    "__10. Who won the highest number of medals overall?__\n",
    "    \n",
    "*Hint*: country\n"
   ]
  },
  {
   "cell_type": "code",
   "execution_count": 127,
   "metadata": {},
   "outputs": [
    {
     "name": "stdout",
     "output_type": "stream",
     "text": [
      "United States won the highest number of medals overall. Numbers of medals: 2700\n"
     ]
    }
   ],
   "source": [
    "# Find the numbers of medals by country\n",
    "filtered_df = data[data['Medal'].notnull()]\n",
    "data_country_medals = filtered_df[['Team', 'Year', 'Sport', 'Event', 'Medal']].drop_duplicates()\n",
    "data_group = data_country_medals.groupby(['Team' ])[ 'Medal'].count().reset_index(name='count')\n",
    "\n",
    "# find maximum count of medals\n",
    "data_highest = data_group[data_group['count']==data_group['count'].max()]\n",
    "dict = data_highest.to_dict('records')\n",
    "\n",
    "print (dict[0]['Team'], 'won the highest number of medals overall. Numbers of medals:', dict[0]['count'])"
   ]
  },
  {
   "cell_type": "code",
   "execution_count": null,
   "metadata": {},
   "outputs": [],
   "source": []
  }
 ],
 "metadata": {
  "kernelspec": {
   "display_name": "Python 3 (ipykernel)",
   "language": "python",
   "name": "python3"
  },
  "language_info": {
   "codemirror_mode": {
    "name": "ipython",
    "version": 3
   },
   "file_extension": ".py",
   "mimetype": "text/x-python",
   "name": "python",
   "nbconvert_exporter": "python",
   "pygments_lexer": "ipython3",
   "version": "3.11.0"
  }
 },
 "nbformat": 4,
 "nbformat_minor": 4
}
